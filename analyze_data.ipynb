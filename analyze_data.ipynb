{
 "cells": [
  {
   "cell_type": "code",
   "execution_count": 2,
   "metadata": {},
   "outputs": [],
   "source": [
    "import torch \n",
    "import numpy as np"
   ]
  },
  {
   "cell_type": "code",
   "execution_count": 3,
   "metadata": {},
   "outputs": [],
   "source": [
    "\n",
    "model_list = ['mlp_hadamard', 'GCN_hadamard', 'GAT_hadamard', 'SAGE_hadamard', 'ELPH_hadamard', 'NCNC_', 'GRAFF_hadamard', 'GRAFF_gradient']"
   ]
  },
  {
   "cell_type": "code",
   "execution_count": 12,
   "metadata": {},
   "outputs": [],
   "source": [
    "get_path_params = lambda model_type, dataset_name: 'inference_time/' + model_type + '/' + dataset_name + '/num_parameters.npy'\n",
    "get_path_times = lambda model_type, dataset_name: 'inference_time/' + model_type + '/' + dataset_name + '/times.npy'\n",
    "\n",
    "get_params = lambda model_type, dataset_name: np.load(get_path_params(model_type, dataset_name))\n",
    "get_times = lambda model_type, dataset_name: np.load(get_path_times(model_type, dataset_name))\n"
   ]
  },
  {
   "cell_type": "code",
   "execution_count": 20,
   "metadata": {},
   "outputs": [
    {
     "name": "stdout",
     "output_type": "stream",
     "text": [
      "            Model  Number of Parameters   Runtime (s)\n",
      "0    mlp_hadamard                 13696   0.218+-0.01\n",
      "1    GCN_hadamard                 13120  0.3835+-0.04\n",
      "2    GAT_hadamard                 13504  0.4612+-0.07\n",
      "3   SAGE_hadamard                 25408  0.4705+-0.02\n",
      "4   ELPH_hadamard                 21982  2.6042+-0.24\n",
      "5  GRAFF_hadamard                  5057  0.4453+-0.04\n",
      "6  GRAFF_gradient                  5057   0.429+-0.02\n"
     ]
    }
   ],
   "source": [
    "import pandas as pd\n",
    "\n",
    "\n",
    "data = []\n",
    "dataset_name = 'tolokers'\n",
    "\n",
    "\n",
    "\n",
    "for model in model_list:\n",
    "    if model == 'NCNC_' and dataset_name == 'tolokers':\n",
    "        continue\n",
    "    params = get_params(model, dataset_name)\n",
    "    times = get_times(model, dataset_name)\n",
    "    mean_runtime = np.mean(times)\n",
    "    std_runtime = np.std(times)\n",
    "    data.append([model, params[0], str(round(mean_runtime, 4)) + '+-' + str(round(std_runtime, 2))])\n",
    "\n",
    "df = pd.DataFrame(data, columns=['Model', 'Number of Parameters', 'Runtime (s)'])\n",
    "print(df)"
   ]
  }
 ],
 "metadata": {
  "kernelspec": {
   "display_name": "GRAFFLP",
   "language": "python",
   "name": "python3"
  },
  "language_info": {
   "codemirror_mode": {
    "name": "ipython",
    "version": 3
   },
   "file_extension": ".py",
   "mimetype": "text/x-python",
   "name": "python",
   "nbconvert_exporter": "python",
   "pygments_lexer": "ipython3",
   "version": "3.9.21"
  }
 },
 "nbformat": 4,
 "nbformat_minor": 2
}
